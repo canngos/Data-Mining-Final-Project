{
 "cells": [
  {
   "cell_type": "code",
   "execution_count": 1,
   "metadata": {},
   "outputs": [],
   "source": [
    "import pandas as pd\n",
    "import numpy as np"
   ]
  },
  {
   "attachments": {},
   "cell_type": "markdown",
   "metadata": {},
   "source": [
    "THIS NOTEBOOK IS FOR MAKING CHANGES IN THE MOCK VIEWERS DATA."
   ]
  },
  {
   "cell_type": "code",
   "execution_count": 2,
   "metadata": {},
   "outputs": [
    {
     "data": {
      "text/html": [
       "<div>\n",
       "<style scoped>\n",
       "    .dataframe tbody tr th:only-of-type {\n",
       "        vertical-align: middle;\n",
       "    }\n",
       "\n",
       "    .dataframe tbody tr th {\n",
       "        vertical-align: top;\n",
       "    }\n",
       "\n",
       "    .dataframe thead th {\n",
       "        text-align: right;\n",
       "    }\n",
       "</style>\n",
       "<table border=\"1\" class=\"dataframe\">\n",
       "  <thead>\n",
       "    <tr style=\"text-align: right;\">\n",
       "      <th></th>\n",
       "      <th>username</th>\n",
       "      <th>country_of_user</th>\n",
       "      <th>title</th>\n",
       "      <th>date_watched</th>\n",
       "      <th>percentage_watched</th>\n",
       "      <th>age</th>\n",
       "    </tr>\n",
       "  </thead>\n",
       "  <tbody>\n",
       "    <tr>\n",
       "      <th>0</th>\n",
       "      <td>cjarrett0</td>\n",
       "      <td>Indonesia</td>\n",
       "      <td>Valeria</td>\n",
       "      <td>1/7/2019</td>\n",
       "      <td>92</td>\n",
       "      <td>21</td>\n",
       "    </tr>\n",
       "    <tr>\n",
       "      <th>1</th>\n",
       "      <td>rasbury1</td>\n",
       "      <td>New Zealand</td>\n",
       "      <td>The Massively Mixed-Up Middle School Mystery</td>\n",
       "      <td>10/25/2015</td>\n",
       "      <td>39</td>\n",
       "      <td>69</td>\n",
       "    </tr>\n",
       "    <tr>\n",
       "      <th>2</th>\n",
       "      <td>fedds2</td>\n",
       "      <td>Iraq</td>\n",
       "      <td>Boi</td>\n",
       "      <td>8/17/2016</td>\n",
       "      <td>37</td>\n",
       "      <td>77</td>\n",
       "    </tr>\n",
       "    <tr>\n",
       "      <th>3</th>\n",
       "      <td>amunehay3</td>\n",
       "      <td>United States</td>\n",
       "      <td>Super Deluxe</td>\n",
       "      <td>11/9/2019</td>\n",
       "      <td>24</td>\n",
       "      <td>12</td>\n",
       "    </tr>\n",
       "    <tr>\n",
       "      <th>4</th>\n",
       "      <td>dterrazzo4</td>\n",
       "      <td>Macedonia</td>\n",
       "      <td>Chance Pe Dance</td>\n",
       "      <td>9/8/2015</td>\n",
       "      <td>85</td>\n",
       "      <td>50</td>\n",
       "    </tr>\n",
       "  </tbody>\n",
       "</table>\n",
       "</div>"
      ],
      "text/plain": [
       "     username country_of_user                                         title  \\\n",
       "0   cjarrett0       Indonesia                                       Valeria   \n",
       "1    rasbury1     New Zealand  The Massively Mixed-Up Middle School Mystery   \n",
       "2      fedds2            Iraq                                           Boi   \n",
       "3   amunehay3   United States                                  Super Deluxe   \n",
       "4  dterrazzo4       Macedonia                               Chance Pe Dance   \n",
       "\n",
       "  date_watched  percentage_watched  age  \n",
       "0     1/7/2019                  92   21  \n",
       "1   10/25/2015                  39   69  \n",
       "2    8/17/2016                  37   77  \n",
       "3    11/9/2019                  24   12  \n",
       "4     9/8/2015                  85   50  "
      ]
     },
     "execution_count": 2,
     "metadata": {},
     "output_type": "execute_result"
    }
   ],
   "source": [
    "data = pd.read_csv('viewers.csv')\n",
    "data.head()"
   ]
  },
  {
   "cell_type": "code",
   "execution_count": 3,
   "metadata": {},
   "outputs": [
    {
     "data": {
      "text/html": [
       "<div>\n",
       "<style scoped>\n",
       "    .dataframe tbody tr th:only-of-type {\n",
       "        vertical-align: middle;\n",
       "    }\n",
       "\n",
       "    .dataframe tbody tr th {\n",
       "        vertical-align: top;\n",
       "    }\n",
       "\n",
       "    .dataframe thead th {\n",
       "        text-align: right;\n",
       "    }\n",
       "</style>\n",
       "<table border=\"1\" class=\"dataframe\">\n",
       "  <thead>\n",
       "    <tr style=\"text-align: right;\">\n",
       "      <th></th>\n",
       "      <th>type</th>\n",
       "      <th>title</th>\n",
       "      <th>director</th>\n",
       "      <th>cast</th>\n",
       "      <th>country</th>\n",
       "      <th>release_year</th>\n",
       "      <th>rating</th>\n",
       "      <th>duration</th>\n",
       "      <th>listed_in</th>\n",
       "    </tr>\n",
       "  </thead>\n",
       "  <tbody>\n",
       "    <tr>\n",
       "      <th>0</th>\n",
       "      <td>Movie</td>\n",
       "      <td>Sankofa</td>\n",
       "      <td>Haile Gerima</td>\n",
       "      <td>Kofi Ghanaba, Oyafunmike Ogunlano, Alexandra D...</td>\n",
       "      <td>United States, Ghana, Burkina Faso, United Kin...</td>\n",
       "      <td>1993</td>\n",
       "      <td>TV-MA</td>\n",
       "      <td>125 min</td>\n",
       "      <td>Dramas, Independent Movies, International Movies</td>\n",
       "    </tr>\n",
       "    <tr>\n",
       "      <th>1</th>\n",
       "      <td>TV Show</td>\n",
       "      <td>The Great British Baking Show</td>\n",
       "      <td>Andy Devonshire</td>\n",
       "      <td>Mel Giedroyc, Sue Perkins, Mary Berry, Paul Ho...</td>\n",
       "      <td>United Kingdom</td>\n",
       "      <td>2021</td>\n",
       "      <td>TV-14</td>\n",
       "      <td>9 Seasons</td>\n",
       "      <td>British TV Shows, Reality TV</td>\n",
       "    </tr>\n",
       "    <tr>\n",
       "      <th>2</th>\n",
       "      <td>Movie</td>\n",
       "      <td>The Starling</td>\n",
       "      <td>Theodore Melfi</td>\n",
       "      <td>Melissa McCarthy, Chris O'Dowd, Kevin Kline, T...</td>\n",
       "      <td>United States</td>\n",
       "      <td>2021</td>\n",
       "      <td>PG-13</td>\n",
       "      <td>104 min</td>\n",
       "      <td>Comedies, Dramas</td>\n",
       "    </tr>\n",
       "    <tr>\n",
       "      <th>3</th>\n",
       "      <td>Movie</td>\n",
       "      <td>Je Suis Karl</td>\n",
       "      <td>Christian Schwochow</td>\n",
       "      <td>Luna Wedler, Jannis Niewöhner, Milan Peschel, ...</td>\n",
       "      <td>Germany, Czech Republic</td>\n",
       "      <td>2021</td>\n",
       "      <td>TV-MA</td>\n",
       "      <td>127 min</td>\n",
       "      <td>Dramas, International Movies</td>\n",
       "    </tr>\n",
       "    <tr>\n",
       "      <th>4</th>\n",
       "      <td>Movie</td>\n",
       "      <td>Jeans</td>\n",
       "      <td>S. Shankar</td>\n",
       "      <td>Prashanth, Aishwarya Rai Bachchan, Sri Lakshmi...</td>\n",
       "      <td>India</td>\n",
       "      <td>1998</td>\n",
       "      <td>TV-14</td>\n",
       "      <td>166 min</td>\n",
       "      <td>Comedies, International Movies, Romantic Movies</td>\n",
       "    </tr>\n",
       "  </tbody>\n",
       "</table>\n",
       "</div>"
      ],
      "text/plain": [
       "      type                          title             director  \\\n",
       "0    Movie                        Sankofa         Haile Gerima   \n",
       "1  TV Show  The Great British Baking Show      Andy Devonshire   \n",
       "2    Movie                   The Starling       Theodore Melfi   \n",
       "3    Movie                   Je Suis Karl  Christian Schwochow   \n",
       "4    Movie                          Jeans           S. Shankar   \n",
       "\n",
       "                                                cast  \\\n",
       "0  Kofi Ghanaba, Oyafunmike Ogunlano, Alexandra D...   \n",
       "1  Mel Giedroyc, Sue Perkins, Mary Berry, Paul Ho...   \n",
       "2  Melissa McCarthy, Chris O'Dowd, Kevin Kline, T...   \n",
       "3  Luna Wedler, Jannis Niewöhner, Milan Peschel, ...   \n",
       "4  Prashanth, Aishwarya Rai Bachchan, Sri Lakshmi...   \n",
       "\n",
       "                                             country  release_year rating  \\\n",
       "0  United States, Ghana, Burkina Faso, United Kin...          1993  TV-MA   \n",
       "1                                     United Kingdom          2021  TV-14   \n",
       "2                                      United States          2021  PG-13   \n",
       "3                            Germany, Czech Republic          2021  TV-MA   \n",
       "4                                              India          1998  TV-14   \n",
       "\n",
       "    duration                                         listed_in  \n",
       "0    125 min  Dramas, Independent Movies, International Movies  \n",
       "1  9 Seasons                      British TV Shows, Reality TV  \n",
       "2    104 min                                  Comedies, Dramas  \n",
       "3    127 min                      Dramas, International Movies  \n",
       "4    166 min   Comedies, International Movies, Romantic Movies  "
      ]
     },
     "execution_count": 3,
     "metadata": {},
     "output_type": "execute_result"
    }
   ],
   "source": [
    "show_data = pd.read_csv('cleaned_netflix_data.csv')\n",
    "show_data.head()"
   ]
  },
  {
   "cell_type": "code",
   "execution_count": 4,
   "metadata": {},
   "outputs": [
    {
     "data": {
      "text/plain": [
       "(2448, 9)"
      ]
     },
     "execution_count": 4,
     "metadata": {},
     "output_type": "execute_result"
    }
   ],
   "source": [
    "show_data.shape"
   ]
  },
  {
   "cell_type": "code",
   "execution_count": 17,
   "metadata": {},
   "outputs": [],
   "source": [
    "show_data.dropna(inplace=True)"
   ]
  },
  {
   "cell_type": "code",
   "execution_count": 6,
   "metadata": {},
   "outputs": [],
   "source": [
    "# get first 1000 usernames\n",
    "usernames = data['username'].values[:1000]"
   ]
  },
  {
   "attachments": {},
   "cell_type": "markdown",
   "metadata": {},
   "source": [
    "FIXING DATA TO HAVE ONLY 1000 UNIQUE USERS"
   ]
  },
  {
   "cell_type": "code",
   "execution_count": null,
   "metadata": {},
   "outputs": [],
   "source": [
    "for index, row in data.iterrows():\n",
    "    if row['username'] in usernames:\n",
    "        continue\n",
    "    else:\n",
    "        rand_username = np.random.choice(usernames)\n",
    "        rand_user = data[data['username'] == rand_username]\n",
    "        data.at[index, 'username'] = rand_username\n",
    "        data.at[index, 'age'] = rand_user['age'].values[0]\n",
    "        data.at[index, 'country_of_user'] = rand_user['country_of_user'].values[0]"
   ]
  },
  {
   "attachments": {},
   "cell_type": "markdown",
   "metadata": {},
   "source": [
    "CREATING 20000 MORE USER DATA"
   ]
  },
  {
   "cell_type": "code",
   "execution_count": null,
   "metadata": {},
   "outputs": [],
   "source": [
    "import warnings\n",
    "warnings.simplefilter(action='ignore', category=FutureWarning)\n",
    "\n",
    "from random import randint\n",
    "import datetime\n",
    "# create more data\n",
    "for i in range(20000):\n",
    "    num = randint(1,100)\n",
    "    date=datetime.date(randint(2015,2023), randint(1,12),randint(1,28))\n",
    "    rand_username = np.random.choice(usernames)\n",
    "    rand_user = data[data['username'] == rand_username]\n",
    "    data = data.append({'username': rand_username, 'age': rand_user['age'].values[0], 'country_of_user': rand_user['country_of_user'].values[0], 'title': np.random.choice(show_data['title'].values), 'date_watched': date, 'percentage_watched': num}, ignore_index=True)\n",
    "    "
   ]
  },
  {
   "cell_type": "code",
   "execution_count": null,
   "metadata": {},
   "outputs": [
    {
     "name": "stdout",
     "output_type": "stream",
     "text": [
      "<class 'pandas.core.frame.DataFrame'>\n",
      "RangeIndex: 30000 entries, 0 to 29999\n",
      "Data columns (total 6 columns):\n",
      " #   Column              Non-Null Count  Dtype \n",
      "---  ------              --------------  ----- \n",
      " 0   username            30000 non-null  object\n",
      " 1   country_of_user     30000 non-null  object\n",
      " 2   title               30000 non-null  object\n",
      " 3   date_watched        30000 non-null  object\n",
      " 4   percentage_watched  30000 non-null  int64 \n",
      " 5   age                 30000 non-null  int64 \n",
      "dtypes: int64(2), object(4)\n",
      "memory usage: 1.4+ MB\n"
     ]
    }
   ],
   "source": [
    "data.info()"
   ]
  },
  {
   "attachments": {},
   "cell_type": "markdown",
   "metadata": {},
   "source": [
    "FIXING DATA IF THERE ARE OTHER THAN SHOW TITLES IN USER DATA, CHANGE THEM WITH THE RANDOMLY SELECTED TITLE FROM THE NETFLIX DATA. (i used mockaroo and it made some mistakes while selecting titles from the netflix data because of encoding issues.)"
   ]
  },
  {
   "cell_type": "code",
   "execution_count": 7,
   "metadata": {},
   "outputs": [],
   "source": [
    "for index, row in data.iterrows():\n",
    "    if row['title'] in show_data['title'].values:\n",
    "        continue\n",
    "    else:\n",
    "        rand_title = np.random.choice(show_data['title'].values)\n",
    "        data.at[index, 'title'] = rand_title"
   ]
  },
  {
   "cell_type": "code",
   "execution_count": 8,
   "metadata": {},
   "outputs": [
    {
     "data": {
      "text/html": [
       "<div>\n",
       "<style scoped>\n",
       "    .dataframe tbody tr th:only-of-type {\n",
       "        vertical-align: middle;\n",
       "    }\n",
       "\n",
       "    .dataframe tbody tr th {\n",
       "        vertical-align: top;\n",
       "    }\n",
       "\n",
       "    .dataframe thead th {\n",
       "        text-align: right;\n",
       "    }\n",
       "</style>\n",
       "<table border=\"1\" class=\"dataframe\">\n",
       "  <thead>\n",
       "    <tr style=\"text-align: right;\">\n",
       "      <th></th>\n",
       "      <th>username</th>\n",
       "      <th>country_of_user</th>\n",
       "      <th>title</th>\n",
       "      <th>date_watched</th>\n",
       "      <th>percentage_watched</th>\n",
       "      <th>age</th>\n",
       "    </tr>\n",
       "  </thead>\n",
       "  <tbody>\n",
       "    <tr>\n",
       "      <th>29995</th>\n",
       "      <td>clippitt4r</td>\n",
       "      <td>Philippines</td>\n",
       "      <td>Namaste Wahala</td>\n",
       "      <td>2022-07-07</td>\n",
       "      <td>45</td>\n",
       "      <td>49</td>\n",
       "    </tr>\n",
       "    <tr>\n",
       "      <th>29996</th>\n",
       "      <td>acaddanhr</td>\n",
       "      <td>Russia</td>\n",
       "      <td>Ninja Assassin</td>\n",
       "      <td>2023-04-16</td>\n",
       "      <td>42</td>\n",
       "      <td>47</td>\n",
       "    </tr>\n",
       "    <tr>\n",
       "      <th>29997</th>\n",
       "      <td>vpillifantd1</td>\n",
       "      <td>Greece</td>\n",
       "      <td>Singham</td>\n",
       "      <td>2017-02-19</td>\n",
       "      <td>79</td>\n",
       "      <td>82</td>\n",
       "    </tr>\n",
       "    <tr>\n",
       "      <th>29998</th>\n",
       "      <td>akirschck</td>\n",
       "      <td>Russia</td>\n",
       "      <td>Kaali Khuhi</td>\n",
       "      <td>2023-11-16</td>\n",
       "      <td>17</td>\n",
       "      <td>57</td>\n",
       "    </tr>\n",
       "    <tr>\n",
       "      <th>29999</th>\n",
       "      <td>kfillery62</td>\n",
       "      <td>Peru</td>\n",
       "      <td>Eric ldle's What About Dick?</td>\n",
       "      <td>2019-04-25</td>\n",
       "      <td>73</td>\n",
       "      <td>49</td>\n",
       "    </tr>\n",
       "  </tbody>\n",
       "</table>\n",
       "</div>"
      ],
      "text/plain": [
       "           username country_of_user                         title  \\\n",
       "29995    clippitt4r     Philippines                Namaste Wahala   \n",
       "29996     acaddanhr          Russia                Ninja Assassin   \n",
       "29997  vpillifantd1          Greece                       Singham   \n",
       "29998     akirschck          Russia                   Kaali Khuhi   \n",
       "29999    kfillery62            Peru  Eric ldle's What About Dick?   \n",
       "\n",
       "      date_watched  percentage_watched  age  \n",
       "29995   2022-07-07                  45   49  \n",
       "29996   2023-04-16                  42   47  \n",
       "29997   2017-02-19                  79   82  \n",
       "29998   2023-11-16                  17   57  \n",
       "29999   2019-04-25                  73   49  "
      ]
     },
     "execution_count": 8,
     "metadata": {},
     "output_type": "execute_result"
    }
   ],
   "source": [
    "data.tail()"
   ]
  },
  {
   "cell_type": "code",
   "execution_count": 9,
   "metadata": {},
   "outputs": [
    {
     "data": {
      "text/plain": [
       "username              0\n",
       "country_of_user       0\n",
       "title                 0\n",
       "date_watched          0\n",
       "percentage_watched    0\n",
       "age                   0\n",
       "dtype: int64"
      ]
     },
     "execution_count": 9,
     "metadata": {},
     "output_type": "execute_result"
    }
   ],
   "source": [
    "data.isna().sum()"
   ]
  },
  {
   "cell_type": "code",
   "execution_count": 10,
   "metadata": {},
   "outputs": [],
   "source": [
    "data.to_csv('viewers.csv', index=False)"
   ]
  }
 ],
 "metadata": {
  "kernelspec": {
   "display_name": "base",
   "language": "python",
   "name": "python3"
  },
  "language_info": {
   "codemirror_mode": {
    "name": "ipython",
    "version": 3
   },
   "file_extension": ".py",
   "mimetype": "text/x-python",
   "name": "python",
   "nbconvert_exporter": "python",
   "pygments_lexer": "ipython3",
   "version": "3.9.12"
  },
  "orig_nbformat": 4
 },
 "nbformat": 4,
 "nbformat_minor": 2
}
